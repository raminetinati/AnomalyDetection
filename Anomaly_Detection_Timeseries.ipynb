{
 "cells": [
  {
   "cell_type": "markdown",
   "metadata": {},
   "source": [
    "# Anomoly Detection - Timeseries\n",
    "\n",
    "Timeseires data is nothing more than a dataset (most likely tabular), which contains a set of records, seqential in nature (usually), and often contains a timestamp, or some increasing numerical number representing events which have happend over a given peroid of time.\n",
    "\n",
    "Timeseries datasets may be uni- or multivarient in nature (e.g. one or more data points per row), and the type of analysis which can be applied can be linear or non-linear in nature. \n",
    "\n",
    "There are a wide variety of analytical methods for examining timeseries data, and depending on the usecase, there are different types of modelling techniques which can be applied (e.g. forecasting, sequential modelling, segmentation, classification, anomaly detection, etc).\n",
    "\n",
    "For our use case, we're going to examine the use case of anomaly detection on resource log data generated from AWS Cloudwatch"
   ]
  },
  {
   "cell_type": "code",
   "execution_count": null,
   "metadata": {},
   "outputs": [],
   "source": [
    "## Housekeeping: Imports and Config"
   ]
  }
 ],
 "metadata": {
  "kernelspec": {
   "display_name": "Python 3",
   "language": "python",
   "name": "python3"
  },
  "language_info": {
   "codemirror_mode": {
    "name": "ipython",
    "version": 3
   },
   "file_extension": ".py",
   "mimetype": "text/x-python",
   "name": "python",
   "nbconvert_exporter": "python",
   "pygments_lexer": "ipython3",
   "version": "3.7.7"
  }
 },
 "nbformat": 4,
 "nbformat_minor": 2
}
